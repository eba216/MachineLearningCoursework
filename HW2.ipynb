{
 "cells": [
  {
   "cell_type": "code",
   "execution_count": 225,
   "metadata": {},
   "outputs": [
    {
     "name": "stdout",
     "output_type": "stream",
     "text": [
      "[7, 8, 6, 8, 6, 7, 7, 8, 7, 9, 9, 7, 8, 8, 6, 7, 8, 7, 8, 9, 8, 8, 9, 7, 6, 9, 8, 7, 6, 9, 8, 9, 8, 7, 8, 9, 9, 8, 9, 7, 6, 5, 6, 8, 8, 7, 7, 9, 9, 7, 8, 8, 8, 9, 9, 9, 8, 7, 9, 6, 8, 6, 8, 9, 8, 8, 8, 7, 8, 10, 4, 8, 8, 5, 7, 8, 7, 9, 5, 6, 7, 8, 8, 6, 8, 8, 8, 6, 7, 6, 7, 10, 9, 8, 6, 8, 7, 8, 5, 7]\n"
     ]
    },
    {
     "data": {
      "image/png": "[encoded data removed]",
      "text/plain": [
       "<Figure size 432x288 with 1 Axes>"
      ]
     },
     "metadata": {
      "needs_background": "light"
     },
     "output_type": "display_data"
    }
   ],
   "source": [
    "import numpy as np\n",
    "import matplotlib\n",
    "import matplotlib.pyplot as plt\n",
    "\n",
    "matplotlib.interactive(True)\n",
    "plt.ion()\n",
    "\n",
    "p = 0.75\n",
    "\n",
    "z = [0 for _ in range(100)]\n",
    "\n",
    "samples = [ (1 if np.random.uniform() <= p else 0) \n",
    "               for _ in range(1000)]\n",
    "\n",
    "index = 0\n",
    "for sample in samples:\n",
    "    z[index//10] += sample\n",
    "    index += 1\n",
    "\n",
    "#print(z)\n",
    "\n",
    "    \n",
    "    \n",
    "plt.xlabel(\"Samples\", fontsize=14 )\n",
    "plt.ylabel(\"Frequency\", fontsize=14)\n",
    "plt.title(f\"Distribution of z_k with  n = 10 and p = {p}\", fontsize=18)\n",
    "\n",
    "plt.hist(z, \n",
    "        bins = 10,\n",
    "        facecolor='cyan', \n",
    "        edgecolor='blue')\n",
    "\n",
    "plt.show()\n",
    "\n",
    "\n"
   ]
  },
  {
   "cell_type": "code",
   "execution_count": null,
   "metadata": {},
   "outputs": [],
   "source": []
  },
  {
   "cell_type": "code",
   "execution_count": null,
   "metadata": {},
   "outputs": [],
   "source": []
  },
  {
   "cell_type": "code",
   "execution_count": null,
   "metadata": {},
   "outputs": [],
   "source": []
  }
 ],
 "metadata": {
  "kernelspec": {
   "display_name": "Python 3",
   "language": "python",
   "name": "python3"
  },
  "language_info": {
   "codemirror_mode": {
    "name": "ipython",
    "version": 3
   },
   "file_extension": ".py",
   "mimetype": "text/x-python",
   "name": "python",
   "nbconvert_exporter": "python",
   "pygments_lexer": "ipython3",
   "version": "3.7.4"
  }
 },
 "nbformat": 4,
 "nbformat_minor": 2
}
